{
 "cells": [
  {
   "cell_type": "markdown",
   "metadata": {},
   "source": [
    "# Workflows - Prompt Chaining"
   ]
  },
  {
   "cell_type": "markdown",
   "metadata": {},
   "source": [
    "## What are workflows?\n",
    "\n",
    "To recap, workflows are systems where LLMs and tools are orchestrated through predefined code paths.\n",
    "\n",
    "## What is prompt Chaining?\n",
    "\n",
    "[According to Anthropic](https://www.anthropic.com/research/building-effective-agents), Prompt chaining decomposes a task into a sequence of steps, where each LLM call processes the output of the previous one. You can add programmatic checks on any intermediate steps to ensure that the process is still on track.\n",
    "\n",
    "## Implementation & use case\n",
    "\n",
    "In this notebook, we will implement a prompt chaining workflow. The workflow will be comprised of 3 steps:\n",
    "\n",
    "1. Load local pdf files (similarly to the [Directly calling LLMs](1-DirectCall.ipynb) notebook)\n",
    "2. We will then use a LLM to summarize their content in discrete pieces (or chunks), called that I arbitrarely named `Sections`.\n",
    "3. We will then pass all `Sections` to a LLM to identify the main topics across all files.\n",
    "\n",
    "This is how it should look like after implementing it:\n",
    "\n",
    "![workflow-prompt-chaining](images/workflow-prompt-chaining.png)\n",
    "\n",
    "We will use LangChain to abstract away the LLM integration and we will use LangGraph to build the workflows."
   ]
  },
  {
   "cell_type": "markdown",
   "metadata": {},
   "source": [
    "## What is LangGraph?\n",
    "\n",
    "Before moving forward, I think it is a good idea to spend some time explain what LangGraph is and what are their main components.\n",
    "\n",
    "[LangGraph](https://langchain-ai.github.io/langgraph/) is a library for building stateful, multi-actor applications with LLMs, used to create agent and multi-agent workflows.\n",
    "\n",
    "There are 3 main concepts that are foundamental to LangGraph that we will use on this (and the following) notebooks:\n",
    "- State: A shared data structure that represents the current snapshot of your application. It can be any Python type, but is typically a TypedDict or Pydantic BaseModel.\n",
    "- Nodes: Python functions that encode the logic of your agents. They receive the current State as input, perform some computation or side-effect, and return an updated State.\n",
    "- Edges: Python functions that determine which Node to execute next based on the current State. They can be conditional branches or fixed transitions.\n",
    "\n",
    "In short: nodes do the work. edges tell what to do next."
   ]
  },
  {
   "cell_type": "markdown",
   "metadata": {},
   "source": [
    "## Lets build a workflow with LangGraph!"
   ]
  },
  {
   "cell_type": "markdown",
   "metadata": {},
   "source": [
    "Let's start by installing some dependencies"
   ]
  },
  {
   "cell_type": "code",
   "execution_count": null,
   "metadata": {},
   "outputs": [],
   "source": [
    "%pip install -r requirements.txt"
   ]
  },
  {
   "cell_type": "markdown",
   "metadata": {},
   "source": [
    "Since we already have the  `FileContent` and `FileSummary` classes, we can import them and use them straight away.\n",
    "\n",
    "We will define a new class to store the list of main topics identified, `Topic`. We will also define a `TopicList` as a data class to host the list of `Topic`. This will be used for schema validation for the LLM."
   ]
  },
  {
   "cell_type": "code",
   "execution_count": null,
   "metadata": {},
   "outputs": [],
   "source": [
    "from pydantic import BaseModel, Field\n",
    "from typing import List, Iterator\n",
    "\n",
    "class Topic(BaseModel):\n",
    "    name: str = Field(\n",
    "        description=\"The name of the topic.\",\n",
    "        min_length = 1,\n",
    "        max_length = 50\n",
    "    )\n",
    "    description: str = Field(\n",
    "        description=\"The description of the topic.\",\n",
    "        min_length = 10,\n",
    "        max_length = 100\n",
    "    )\n",
    "\n",
    "class TopicList(BaseModel):\n",
    "    topics: List[Topic] = Field(\n",
    "        description=\"List of main topics identified from the file\",\n",
    "        min_items=1\n",
    "    )\n",
    "\n",
    "    # Iterator object\n",
    "    def __iter__(self) -> Iterator[Topic]:\n",
    "        return iter(self.topics)\n",
    "    \n",
    "    # To allow splicing\n",
    "    def __getitem__(self, index: int) -> Topic:\n",
    "        return self.topics[index]"
   ]
  },
  {
   "cell_type": "markdown",
   "metadata": {},
   "source": [
    "With all the classes needed defined, let's define the shared State for LangGraph.\n",
    "\n",
    "This State will need to store:\n",
    "1. A list of files we want to use\n",
    "2. The content of said files. We can use the `FileContent` class to store this data.\n",
    "3. The summarized pieces of content, with its title. We can use the `Section` class for it.\n",
    "4. The main topics identified accross all `Sections`."
   ]
  },
  {
   "cell_type": "code",
   "execution_count": null,
   "metadata": {},
   "outputs": [],
   "source": [
    "from pydantic import BaseModel\n",
    "from typing import List\n",
    "from langchain_core.language_models import BaseLanguageModel\n",
    "from utils import FileContent, FileSummary, read_files, summarize_files\n",
    "\n",
    "# Initializing empty state\n",
    "class State(BaseModel):\n",
    "    file_list: List[str] = []\n",
    "    file_contents: List[FileContent] = []\n",
    "    summarized_files: List[FileSummary] = []\n",
    "    main_topics: TopicList = []"
   ]
  },
  {
   "cell_type": "markdown",
   "metadata": {},
   "source": [
    "Since we already have the  `read_files` and `summarize_files` functions defined, we can import them and use them straight away.\n",
    "\n",
    "We will need to define a new function to identify the main topics."
   ]
  },
  {
   "cell_type": "code",
   "execution_count": null,
   "metadata": {},
   "outputs": [],
   "source": [
    "from langchain_core.language_models import BaseLanguageModel\n",
    "from langchain.prompts import PromptTemplate\n",
    "\n",
    "def return_main_topic_identification_prompt() -> str:\n",
    "    \"\"\"\n",
    "    Returns the prompt used for main topic identification\n",
    "    \n",
    "    Args:\n",
    "        none\n",
    "\n",
    "    Returns:\n",
    "        str: The prompt used for main topic identification\n",
    "    \"\"\"\n",
    "    template = \"\"\"\n",
    "\n",
    "    <text>{text}</text>\n",
    "\n",
    "    You are an expert at analyzing text to identify main topics.\n",
    "    Analyze the text contained within the <text> tags and identify\n",
    "    the main topics across all text. There could be multiple main\n",
    "    topics. For each topic provide:\n",
    "    - its name\n",
    "    - a brief description (less than 100 characters)\n",
    "    \"\"\"\n",
    "    prompt = PromptTemplate(\n",
    "        input_variables = [\"text\"],\n",
    "        template=template\n",
    "    )\n",
    "\n",
    "    return prompt\n",
    "\n",
    "def identify_main_topics(summary_list: List[FileSummary], llm: BaseLanguageModel) -> List[Topic]:\n",
    "    \"\"\"\n",
    "    Identify the main topics within a list of FileSummary using an LLM and retuns a list of Topic.\n",
    "    \n",
    "    Args:\n",
    "        summary_list: List[FileSummary]: the list of summaries to from which identify main topics\n",
    "        llm (BaseLanguageModel): an LLM to use for identifying main topics\n",
    "\n",
    "    Returns:\n",
    "        List[Topic]: List of the main topics identified on the summaries\n",
    "    \"\"\"\n",
    "\n",
    "    structured_llm = llm.with_structured_output(TopicList)\n",
    "\n",
    "    prompt = return_main_topic_identification_prompt()\n",
    "\n",
    "    text = '\\n'.join(\n",
    "        f\"{section.title}: {section.summary}\"\n",
    "        for file_summary in summary_list\n",
    "        for section in file_summary.sections\n",
    "    )\n",
    "\n",
    "    main_topics = structured_llm.invoke(prompt.format(text=text))\n",
    "\n",
    "    return main_topics"
   ]
  },
  {
   "cell_type": "markdown",
   "metadata": {},
   "source": [
    "I'll go ahead and save those classes to the `utils.py` file to re-use them later."
   ]
  },
  {
   "cell_type": "markdown",
   "metadata": {},
   "source": [
    "Lets build some wrapper functions that will act as nodes in the Graph."
   ]
  },
  {
   "cell_type": "code",
   "execution_count": null,
   "metadata": {},
   "outputs": [],
   "source": [
    "import asyncio\n",
    "\n",
    "async def load_files(state: State) -> State:\n",
    "    return {\"file_contents\": await read_files(state.file_list)}\n",
    "\n",
    "def summarize_all_files(state: State) -> State:\n",
    "    return {\"summarized_files\": summarize_files(file_list=state.file_contents, llm=llm)}\n",
    "\n",
    "def iden_main_topics(state: State) -> State:\n",
    "    return {\"main_topics\": identify_main_topics(state.summarized_files, llm=llm)}"
   ]
  },
  {
   "cell_type": "markdown",
   "metadata": {},
   "source": [
    "Let's build the Graph"
   ]
  },
  {
   "cell_type": "code",
   "execution_count": null,
   "metadata": {},
   "outputs": [],
   "source": [
    "from langgraph.graph import StateGraph, START, END\n",
    "\n",
    "# Build the state graph\n",
    "builder = StateGraph(State)\n",
    "\n",
    "# add nodes\n",
    "builder.add_node(load_files)\n",
    "builder.add_node(summarize_all_files)\n",
    "builder.add_node(iden_main_topics)\n",
    "\n",
    "builder.add_edge(START, \"load_files\")\n",
    "builder.add_edge(\"load_files\", \"summarize_all_files\")\n",
    "builder.add_edge(\"summarize_all_files\", \"iden_main_topics\")\n",
    "builder.add_edge(\"iden_main_topics\", END)\n",
    "graph = builder.compile()"
   ]
  },
  {
   "cell_type": "markdown",
   "metadata": {},
   "source": [
    "We have built the graph! We can take advantage of a feature in LangGraph to see how it looks like."
   ]
  },
  {
   "cell_type": "code",
   "execution_count": 6,
   "metadata": {},
   "outputs": [
    {
     "data": {
      "image/png": "[encoded data removed]",
      "text/plain": [
       "<IPython.core.display.Image object>"
      ]
     },
     "metadata": {},
     "output_type": "display_data"
    }
   ],
   "source": [
    "from IPython.display import Image, display\n",
    "\n",
    "display(Image(graph.get_graph().draw_mermaid_png()))"
   ]
  },
  {
   "cell_type": "markdown",
   "metadata": {},
   "source": [
    "Looks all right! Let's load some files and test it"
   ]
  },
  {
   "cell_type": "markdown",
   "metadata": {},
   "source": [
    "We will load the files using the `load_files` function we defined on the first notebook. You can head to [Directly calling LLMs](1-DirectCall.ipynb) for more info about this function."
   ]
  },
  {
   "cell_type": "code",
   "execution_count": 7,
   "metadata": {},
   "outputs": [],
   "source": [
    "import os\n",
    "\n",
    "base_dir = os.path.expanduser('~/Desktop/pdfs')\n",
    "\n",
    "input_files = \\\n",
    "    [\n",
    "        os.path.join(base_dir, \"1.pdf\"),\n",
    "        os.path.join(base_dir, \"2.pdf\"),\n",
    "        os.path.join(base_dir, \"3.pdf\"),\n",
    "        os.path.join(base_dir, \"4.pdf\"),\n",
    "        os.path.join(base_dir, \"5.pdf\")\n",
    "]"
   ]
  },
  {
   "cell_type": "markdown",
   "metadata": {},
   "source": [
    "Let's define the LLM we will use. I am using a local LLM hosted with LM Studio that has an OpenAI compatible API. You can change the below line to whatever LLM you want to use."
   ]
  },
  {
   "cell_type": "code",
   "execution_count": 8,
   "metadata": {},
   "outputs": [
    {
     "name": "stdout",
     "output_type": "stream",
     "text": [
      "Loading LLM...\n",
      "Parameters:\n",
      "max_tokens: 8192, temperature: 0.1, top_p: 0.4\n",
      "Using Anthropic. Model: claude-3-5-haiku-20241022\n"
     ]
    }
   ],
   "source": [
    "from utils import load_llm\n",
    "llm = load_llm()"
   ]
  },
  {
   "cell_type": "markdown",
   "metadata": {},
   "source": [
    "## Time to test it!\n",
    "\n",
    "We have now everything we need to test the graph. Let's test it!"
   ]
  },
  {
   "cell_type": "code",
   "execution_count": null,
   "metadata": {},
   "outputs": [],
   "source": [
    "result = await graph.ainvoke({\"file_list\": input_files})"
   ]
  },
  {
   "cell_type": "markdown",
   "metadata": {},
   "source": [
    "Let's check the results:"
   ]
  },
  {
   "cell_type": "code",
   "execution_count": 10,
   "metadata": {},
   "outputs": [
    {
     "data": {
      "text/plain": [
       "TopicList(topics=[Topic(name='LangGraph', description='Framework for modeling complex agent workflows using graph-based architecture'), Topic(name='AI Model Training', description='Fundamental techniques for developing and training large language models'), Topic(name='AI Reasoning and Emergence', description=\"Exploring AI's ability to develop reasoning capabilities and logical thinking\"), Topic(name='Transformers Library', description='Hugging Face library for working with machine learning models'), Topic(name='AI Industry Updates', description='Recent developments and trends in artificial intelligence technology'), Topic(name='Productivity AI Tools', description='AI-powered tools designed to enhance work efficiency and workflow')])"
      ]
     },
     "execution_count": 10,
     "metadata": {},
     "output_type": "execute_result"
    }
   ],
   "source": [
    "result['main_topics']"
   ]
  }
 ],
 "metadata": {
  "kernelspec": {
   "display_name": "building-effective-agents",
   "language": "python",
   "name": "python3"
  },
  "language_info": {
   "codemirror_mode": {
    "name": "ipython",
    "version": 3
   },
   "file_extension": ".py",
   "mimetype": "text/x-python",
   "name": "python",
   "nbconvert_exporter": "python",
   "pygments_lexer": "ipython3",
   "version": "3.13.2"
  }
 },
 "nbformat": 4,
 "nbformat_minor": 2
}
