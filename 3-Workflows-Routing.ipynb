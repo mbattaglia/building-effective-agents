{
 "cells": [
  {
   "cell_type": "markdown",
   "metadata": {},
   "source": [
    "# Workflows - Prompt Chaining"
   ]
  },
  {
   "cell_type": "markdown",
   "metadata": {},
   "source": [
    "## What are workflows?\n",
    "\n",
    "To recap, workflows are systems where LLMs and tools are orchestrated through predefined code paths.\n",
    "\n",
    "## What is Routing?\n",
    "\n",
    "[According to Anthropic](https://www.anthropic.com/research/building-effective-agents), routing classifies an input and directs it to a specialized followup task. This workflow allows for separation of concerns, and building more specialized prompts. Without this workflow, optimizing for one kind of input can hurt performance on other inputs.\n",
    "\n",
    "## Implementation & use case\n",
    "\n",
    "In this notebook, we will implement a routing workflow. We will be building on top of the previously defined workflow on the [2-Workflows-Prompt-Chaining.ipynb](2-Workflows-Prompt-Chaining.ipynb) notebook and will add one extra step. To summarize what the workflow will do:\n",
    "\n",
    "1. Load local pdf files.\n",
    "2. Summarize the files\n",
    "3. Extract the main topics\n",
    "4. Based on what the user request we will invoke an LLM with a different prompt to adjust the final response according to the user preferences. There will be 3 possible options: formal, short and casual. We will use schema validation for this.\n",
    "\n",
    "This is how it should look like after implementing it:\n",
    "\n",
    "![workflow-prompt-chaining](images/workflow-routing.png)\n",
    "\n",
    "We will use LangChain to abstract away the LLM integration and we will use LangGraph to build the workflows."
   ]
  },
  {
   "cell_type": "markdown",
   "metadata": {},
   "source": [
    "## Building the workflow"
   ]
  },
  {
   "cell_type": "markdown",
   "metadata": {},
   "source": [
    "Let's start by installing some dependencies"
   ]
  },
  {
   "cell_type": "code",
   "execution_count": null,
   "metadata": {},
   "outputs": [],
   "source": [
    "%pip install -r requirements.txt"
   ]
  },
  {
   "cell_type": "markdown",
   "metadata": {},
   "source": [
    "Since we already have the `FileContent`, `FileSummary` classes, we can import them and use them straight away.\n",
    "\n",
    "Let's define the shared State for LangGraph.\n",
    "\n",
    "This State will need to store:\n",
    "1. The input from the user\n",
    "2. A list of files we want to use\n",
    "3. The content of said files. We can use the `FileContent` class to store this data.\n",
    "4. The summarized pieces of content, with its title. We can use the `Section` class for it.\n",
    "5. The choice made by the LLM. We will use it to route to the different code paths.\n",
    "6. The output we want to print."
   ]
  },
  {
   "cell_type": "code",
   "execution_count": 1,
   "metadata": {},
   "outputs": [],
   "source": [
    "from pydantic import BaseModel\n",
    "from typing import List\n",
    "from utils import FileContent, FileSummary, read_files, summarize_files, identify_main_topics\n",
    "\n",
    "# Initializing empty state\n",
    "class State(BaseModel):\n",
    "    file_list: List[str] = []\n",
    "    file_contents: List[FileContent] = []\n",
    "    summarized_files: List[FileSummary] = []\n",
    "    user_input: str = \"\"\n",
    "    decision: str = \"\"\n",
    "    output: str = \"\""
   ]
  },
  {
   "cell_type": "markdown",
   "metadata": {},
   "source": [
    "We will need to define a function to invoke an LLM to make a decision to route based on user input.\n",
    "\n",
    "Forcing LLMs to output with a specific schema will be very useful, as we want the routing LLM response to be within a specific list of options.\n"
   ]
  },
  {
   "cell_type": "code",
   "execution_count": 2,
   "metadata": {},
   "outputs": [],
   "source": [
    "from pydantic import BaseModel, Field\n",
    "from typing import Literal, Dict\n",
    "from langchain_core.language_models import BaseLanguageModel\n",
    "\n",
    "class Route(BaseModel):\n",
    "    step: Literal[\"formal\", \"short\", \"casual\"] = Field(\n",
    "        None, description=\"The next step in the routing process\"\n",
    "    )\n",
    "\n",
    "def route(user_input: str, llm: BaseLanguageModel) -> str:\n",
    "\n",
    "    \"\"\"\n",
    "    Use an LLM to decide best routing option based on user input\n",
    "    \n",
    "    Args:\n",
    "        user_input(str): the input from the user\n",
    "        llm (BaseLanguageModel): the LLM\n",
    "        \n",
    "    Returns:\n",
    "        decision(str): the decision made by the LLM\n",
    "    \"\"\"\n",
    "\n",
    "    structured_llm = llm.with_structured_output(Route)\n",
    "\n",
    "    prompt = f\"\"\"\n",
    "    Analyze the input and select the most appropriate option.\n",
    "    Only select from within these options:\n",
    "    - formal: longer, formal responses\n",
    "    - short: more concise, shorter responses\n",
    "    - casual: casual responses, using emojis where possible\n",
    "    Only answer with a single word, lowercase, from the list above.\n",
    "    Input: {user_input}\"\"\"\n",
    "\n",
    "    decision = structured_llm.invoke(prompt)\n",
    "\n",
    "    return decision"
   ]
  },
  {
   "cell_type": "markdown",
   "metadata": {},
   "source": [
    "We will also define 3 functions to generate responses with an LLM based on the user preferences."
   ]
  },
  {
   "cell_type": "code",
   "execution_count": 3,
   "metadata": {},
   "outputs": [],
   "source": [
    "def generate_formal_response(summary_list: List[FileSummary], llm: BaseLanguageModel) -> str:\n",
    "    \"\"\"\n",
    "    Generates a \"formal\" response with an LLM. \n",
    "    \n",
    "    Args:\n",
    "        summary_list: List[FileSummary]: the list of summaries to from which generate the response\n",
    "        llm (BaseLanguageModel): the LLM to use\n",
    "\n",
    "    Returns:\n",
    "        response[str]: the response from the LLM\n",
    "    \"\"\"\n",
    "\n",
    "    prompt = f\"\"\"\n",
    "\n",
    "    <text>{summary_list}</text>\n",
    "\n",
    "    Analyze the text contained within the <text> tags and generate\n",
    "    a summary on the main topics across all text.\n",
    "    Use a formal, academic tone.\n",
    "    Include only the summary in your response, nothing else.\n",
    "    \"\"\"\n",
    "\n",
    "    text = '\\n'.join(\n",
    "        f\"{section.title}: {section.summary}\"\n",
    "        for file_summary in summary_list\n",
    "        for section in file_summary.sections\n",
    "    )\n",
    "\n",
    "    response = llm.invoke(prompt)\n",
    "\n",
    "    return response.content\n",
    "\n",
    "def generate_short_response(summary_list: List[FileSummary], llm: BaseLanguageModel) -> str:\n",
    "    \"\"\"\n",
    "    Generates a \"shorter\" response with an LLM. \n",
    "    \n",
    "    Args:\n",
    "        summary_list: List[FileSummary]: the list of summaries to from which generate the response\n",
    "        llm (BaseLanguageModel): the LLM to use\n",
    "\n",
    "    Returns:\n",
    "        response[str]: the response from the LLM\n",
    "    \"\"\"\n",
    "\n",
    "    prompt = f\"\"\"\n",
    "\n",
    "    <text>{summary_list}</text>\n",
    "\n",
    "    Analyze the text contained within the <text> tags and generate\n",
    "    a short summary on the main topics across all text.\n",
    "    Be succint and only talk about the main topics\n",
    "    Include only the summary in your response, nothing else.\n",
    "    \"\"\"\n",
    "\n",
    "    text = '\\n'.join(\n",
    "        f\"{section.title}: {section.summary}\"\n",
    "        for file_summary in summary_list\n",
    "        for section in file_summary.sections\n",
    "    )\n",
    "\n",
    "    response = llm.invoke(prompt)\n",
    "\n",
    "    return response.content\n",
    "\n",
    "def generate_casual_response(summary_list: List[FileSummary], llm: BaseLanguageModel) -> str:\n",
    "    \"\"\"\n",
    "    Generates a \"casual\" response with an LLM. \n",
    "    \n",
    "    Args:\n",
    "        summary_list: List[FileSummary]: the list of summaries to from which generate the response\n",
    "        llm (BaseLanguageModel): the LLM to use\n",
    "\n",
    "    Returns:\n",
    "        response[str]: the response from the LLM\n",
    "    \"\"\"\n",
    "\n",
    "    prompt = f\"\"\"\n",
    "\n",
    "    <text>{summary_list}</text>\n",
    "\n",
    "    Analyze the text contained within the <text> tags and generate\n",
    "    a summary on the main topics across all text.\n",
    "    Use a casual tone, and mix in emojis to make the text more interesting.\n",
    "    Include only the summary in your response, nothing else.\n",
    "    \"\"\"\n",
    "\n",
    "    text = '\\n'.join(\n",
    "        f\"{section.title}: {section.summary}\"\n",
    "        for file_summary in summary_list\n",
    "        for section in file_summary.sections\n",
    "    )\n",
    "\n",
    "    response = llm.invoke(prompt)\n",
    "\n",
    "    return response.content"
   ]
  },
  {
   "cell_type": "markdown",
   "metadata": {},
   "source": [
    "Since we already have the  `read_files` and `summarize_files` functions defined, we can import them and use them straight away.\n",
    "\n",
    "Lets build some wrapper functions that will act as nodes in the Graph."
   ]
  },
  {
   "cell_type": "code",
   "execution_count": 4,
   "metadata": {},
   "outputs": [],
   "source": [
    "import asyncio\n",
    "\n",
    "async def load_files(state: State) -> Dict:\n",
    "    return {\"file_contents\": await read_files(state.file_list)}\n",
    "\n",
    "def router(state: State) -> Dict:\n",
    "    return {\"decision\": route(state.user_input, llm).step}\n",
    "\n",
    "def route_decision(state: State) -> Dict:\n",
    "    if state.decision == 'formal':\n",
    "        return \"formal\"\n",
    "        #return \"formal_response\"\n",
    "    elif state.decision == 'short':\n",
    "        return \"short\"\n",
    "        #return \"short_response\"\n",
    "    elif state.decision == 'casual':\n",
    "        return \"casual\"\n",
    "        #return \"casual_response\"\n",
    "\n",
    "def summarize_all_files(state: State) -> Dict:\n",
    "    return {\"summarized_files\": summarize_files(file_list=state.file_contents, llm=llm)}\n",
    "\n",
    "def iden_main_topics(state: State) -> Dict:\n",
    "    return {\"main_topics\": identify_main_topics(state.summarized_files, llm=llm)}\n",
    "\n",
    "def formal_response(state: State) -> Dict:\n",
    "    return {\"output\": generate_formal_response(state.summarized_files, llm=llm)}\n",
    "\n",
    "def short_response(state: State) -> Dict:\n",
    "    return {\"output\": generate_short_response(state.summarized_files, llm=llm)}\n",
    "\n",
    "def casual_response(state: State) -> Dict:\n",
    "    return {\"output\": generate_casual_response(state.summarized_files, llm=llm)}\n"
   ]
  },
  {
   "cell_type": "markdown",
   "metadata": {},
   "source": [
    "Let's build the Graph"
   ]
  },
  {
   "cell_type": "code",
   "execution_count": 5,
   "metadata": {},
   "outputs": [],
   "source": [
    "from langgraph.graph import StateGraph, START, END\n",
    "\n",
    "# Build the state graph\n",
    "builder = StateGraph(State)\n",
    "\n",
    "# add nodes\n",
    "builder.add_node(\"Load files\", load_files)\n",
    "builder.add_node(\"Summarize files\", summarize_all_files)\n",
    "builder.add_node(\"Identify main topics\", iden_main_topics)\n",
    "builder.add_node(\"Router node\", router)\n",
    "builder.add_node(\"formal_response\", formal_response)\n",
    "builder.add_node(\"short_response\", short_response)\n",
    "builder.add_node(\"casual_response\", casual_response)\n",
    "\n",
    "builder.add_edge(START, \"Load files\")\n",
    "builder.add_edge(\"Load files\", \"Summarize files\")\n",
    "builder.add_edge(\"Summarize files\", \"Identify main topics\")\n",
    "builder.add_edge(\"Identify main topics\", \"Router node\")\n",
    "# Conditional edges\n",
    "builder.add_conditional_edges(\n",
    "    \"Router node\",\n",
    "    route_decision,\n",
    "    {\n",
    "        \"formal\": \"formal_response\",\n",
    "        \"short\": \"short_response\",\n",
    "        \"casual\": \"casual_response\"\n",
    "    }\n",
    ")\n",
    "builder.add_edge(\"formal_response\", END)\n",
    "builder.add_edge(\"short_response\", END)\n",
    "builder.add_edge(\"casual_response\", END)\n",
    "\n",
    "\n",
    "graph = builder.compile()"
   ]
  },
  {
   "cell_type": "markdown",
   "metadata": {},
   "source": [
    "We have built the graph! We can take advantage of a feature in LangGraph to see how it looks like."
   ]
  },
  {
   "cell_type": "code",
   "execution_count": 7,
   "metadata": {},
   "outputs": [
    {
     "data": {
      "image/png": "[encoded data removed]",
      "text/plain": [
       "<IPython.core.display.Image object>"
      ]
     },
     "metadata": {},
     "output_type": "display_data"
    }
   ],
   "source": [
    "from IPython.display import Image, display\n",
    "\n",
    "display(Image(graph.get_graph().draw_mermaid_png()))"
   ]
  },
  {
   "cell_type": "markdown",
   "metadata": {},
   "source": [
    "Looks all right! Let's load some files and test it"
   ]
  },
  {
   "cell_type": "markdown",
   "metadata": {},
   "source": [
    "We will load the files using the `load_files` function we defined on the first notebook. You can head to [Directly calling LLMs](1-DirectCall.ipynb) for more info about this function."
   ]
  },
  {
   "cell_type": "code",
   "execution_count": 8,
   "metadata": {},
   "outputs": [],
   "source": [
    "import os \n",
    "\n",
    "base_dir = os.path.expanduser('~/Desktop/pdfs')\n",
    "\n",
    "input_files = \\\n",
    "    [\n",
    "        os.path.join(base_dir, \"1.pdf\"),\n",
    "        os.path.join(base_dir, \"2.pdf\"),\n",
    "        os.path.join(base_dir, \"3.pdf\"),\n",
    "        os.path.join(base_dir, \"4.pdf\"),\n",
    "        os.path.join(base_dir, \"5.pdf\")\n",
    "]"
   ]
  },
  {
   "cell_type": "markdown",
   "metadata": {},
   "source": [
    "Let's define the LLM we will use. I am using a local LLM hosted with LM Studio that has an OpenAI compatible API. You can change the below line to whatever LLM you want to use."
   ]
  },
  {
   "cell_type": "code",
   "execution_count": 9,
   "metadata": {},
   "outputs": [
    {
     "name": "stdout",
     "output_type": "stream",
     "text": [
      "Loading LLM...\n",
      "Parameters:\n",
      "max_tokens: 8192, temperature: 0.1, top_p: 0.4\n",
      "Using Anthropic. Model: claude-3-5-haiku-20241022\n"
     ]
    }
   ],
   "source": [
    "from utils import load_llm\n",
    "llm = load_llm()"
   ]
  },
  {
   "cell_type": "markdown",
   "metadata": {},
   "source": [
    "## Time to test it!\n",
    "\n",
    "We have now everything we need to test the graph. Let's test it!"
   ]
  },
  {
   "cell_type": "code",
   "execution_count": null,
   "metadata": {},
   "outputs": [],
   "source": [
    "result = await graph.ainvoke(\n",
    "    {\n",
    "        \"file_list\": input_files,\n",
    "        \"user_input\": \"I like fun, casual and interesting reads.\"\n",
    "    }\n",
    ")"
   ]
  },
  {
   "cell_type": "markdown",
   "metadata": {},
   "source": [
    "Let's check the results:"
   ]
  },
  {
   "cell_type": "code",
   "execution_count": 11,
   "metadata": {},
   "outputs": [
    {
     "data": {
      "text/plain": [
       "('casual',\n",
       " \"Hey there! 🚀 Here's a quick rundown of the key topics across these documents:\\n\\nAI and Machine Learning Deep Dive 🤖\\nThe texts cover several fascinating areas of AI technology, including:\\n- LangGraph: A powerful framework for creating complex AI agent workflows 📊\\n- Large Language Model (LLM) Training Fundamentals 🧠\\n- Emerging AI Reasoning Techniques 🔍\\n- Transformers Library: A versatile tool for machine learning tasks 💻\\n\\nKey Highlights:\\n- Breakthrough research in low-cost AI model training 💡\\n- Advanced techniques for teaching AI to reason and solve problems 🧩\\n- Tools for building interactive, dynamic AI systems 🤝\\n- Exploration of how AI can develop more human-like cognitive processes 🌟\\n\\nIndustry Trends:\\n- AI productivity tools 📈\\n- Innovations from companies like Mistral, LinkedIn, and OpenAI 🌐\\n- Emerging technologies in image generation and text-based AI 🖼️\\n\\nThe documents showcase an exciting landscape of AI development, focusing on making AI more intelligent, adaptable, and user-friendly! 🚀✨\")"
      ]
     },
     "execution_count": 11,
     "metadata": {},
     "output_type": "execute_result"
    }
   ],
   "source": [
    "result['decision'], result['output']"
   ]
  }
 ],
 "metadata": {
  "kernelspec": {
   "display_name": "building-effective-agents",
   "language": "python",
   "name": "python3"
  },
  "language_info": {
   "codemirror_mode": {
    "name": "ipython",
    "version": 3
   },
   "file_extension": ".py",
   "mimetype": "text/x-python",
   "name": "python",
   "nbconvert_exporter": "python",
   "pygments_lexer": "ipython3",
   "version": "3.13.2"
  }
 },
 "nbformat": 4,
 "nbformat_minor": 2
}
